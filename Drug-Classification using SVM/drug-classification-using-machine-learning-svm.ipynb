{
 "cells": [
  {
   "cell_type": "markdown",
   "execution_count": null,
   "metadata": {
    "papermill": {
     "duration": 0.009425,
     "end_time": "2020-08-15T21:06:27.583417",
     "exception": false,
     "start_time": "2020-08-15T21:06:27.573992",
     "status": "completed"
    },
    "tags": []
   },
   "source": [
    "**About Data set**\n",
    "\n",
    "This dataset was developed by Pratham Tripathi with the features such as these : \n",
    "\n",
    "The target feature :\n",
    "\n",
    "Drug type\n",
    "\n",
    "The feature sets :\n",
    "Age\n",
    "Sex\n",
    "Blood Pressure Levels (BP)\n",
    "Cholesterol Levels\n",
    "Na to Potassium Ration"
   ]
  },
  {
   "cell_type": "code",
   "execution_count": 1,
   "metadata": {
    "_cell_guid": "b1076dfc-b9ad-4769-8c92-a6c4dae69d19",
    "_uuid": "8f2839f25d086af736a60e9eeb907d3b93b6e0e5",
    "execution": {
     "iopub.execute_input": "2020-08-15T21:06:27.606833Z",
     "iopub.status.busy": "2020-08-15T21:06:27.606022Z",
     "iopub.status.idle": "2020-08-15T21:06:28.804895Z",
     "shell.execute_reply": "2020-08-15T21:06:28.804183Z"
    },
    "papermill": {
     "duration": 1.213165,
     "end_time": "2020-08-15T21:06:28.805102",
     "exception": false,
     "start_time": "2020-08-15T21:06:27.591937",
     "status": "completed"
    },
    "tags": []
   },
   "outputs": [],
   "source": [
    "import numpy as np\n",
    "import pandas as pd\n",
    "import matplotlib.pyplot as plt\n",
    "import seaborn as sns"
   ]
  },
  {
   "cell_type": "markdown",
   "execution_count": null,
   "metadata": {
    "papermill": {
     "duration": 0.00768,
     "end_time": "2020-08-15T21:06:28.821260",
     "exception": false,
     "start_time": "2020-08-15T21:06:28.813580",
     "status": "completed"
    },
    "tags": []
   },
   "source": [
    "**DATA**"
   ]
  },
  {
   "cell_type": "code",
   "execution_count": 2,
   "metadata": {
    "_cell_guid": "79c7e3d0-c299-4dcb-8224-4455121ee9b0",
    "_uuid": "d629ff2d2480ee46fbb7e2d37f6b5fab8052498a",
    "execution": {
     "iopub.execute_input": "2020-08-15T21:06:28.848144Z",
     "iopub.status.busy": "2020-08-15T21:06:28.846887Z",
     "iopub.status.idle": "2020-08-15T21:06:28.889360Z",
     "shell.execute_reply": "2020-08-15T21:06:28.888679Z"
    },
    "papermill": {
     "duration": 0.060183,
     "end_time": "2020-08-15T21:06:28.889506",
     "exception": false,
     "start_time": "2020-08-15T21:06:28.829323",
     "status": "completed"
    },
    "tags": []
   },
   "outputs": [
    {
     "data": {
      "text/html": [
       "<div>\n",
       "<style scoped>\n",
       "    .dataframe tbody tr th:only-of-type {\n",
       "        vertical-align: middle;\n",
       "    }\n",
       "\n",
       "    .dataframe tbody tr th {\n",
       "        vertical-align: top;\n",
       "    }\n",
       "\n",
       "    .dataframe thead th {\n",
       "        text-align: right;\n",
       "    }\n",
       "</style>\n",
       "<table border=\"1\" class=\"dataframe\">\n",
       "  <thead>\n",
       "    <tr style=\"text-align: right;\">\n",
       "      <th></th>\n",
       "      <th>Age</th>\n",
       "      <th>Sex</th>\n",
       "      <th>BP</th>\n",
       "      <th>Cholesterol</th>\n",
       "      <th>Na_to_K</th>\n",
       "      <th>Drug</th>\n",
       "    </tr>\n",
       "  </thead>\n",
       "  <tbody>\n",
       "    <tr>\n",
       "      <th>0</th>\n",
       "      <td>23</td>\n",
       "      <td>F</td>\n",
       "      <td>HIGH</td>\n",
       "      <td>HIGH</td>\n",
       "      <td>25.355</td>\n",
       "      <td>DrugY</td>\n",
       "    </tr>\n",
       "    <tr>\n",
       "      <th>1</th>\n",
       "      <td>47</td>\n",
       "      <td>M</td>\n",
       "      <td>LOW</td>\n",
       "      <td>HIGH</td>\n",
       "      <td>13.093</td>\n",
       "      <td>drugC</td>\n",
       "    </tr>\n",
       "    <tr>\n",
       "      <th>2</th>\n",
       "      <td>47</td>\n",
       "      <td>M</td>\n",
       "      <td>LOW</td>\n",
       "      <td>HIGH</td>\n",
       "      <td>10.114</td>\n",
       "      <td>drugC</td>\n",
       "    </tr>\n",
       "    <tr>\n",
       "      <th>3</th>\n",
       "      <td>28</td>\n",
       "      <td>F</td>\n",
       "      <td>NORMAL</td>\n",
       "      <td>HIGH</td>\n",
       "      <td>7.798</td>\n",
       "      <td>drugX</td>\n",
       "    </tr>\n",
       "    <tr>\n",
       "      <th>4</th>\n",
       "      <td>61</td>\n",
       "      <td>F</td>\n",
       "      <td>LOW</td>\n",
       "      <td>HIGH</td>\n",
       "      <td>18.043</td>\n",
       "      <td>DrugY</td>\n",
       "    </tr>\n",
       "    <tr>\n",
       "      <th>...</th>\n",
       "      <td>...</td>\n",
       "      <td>...</td>\n",
       "      <td>...</td>\n",
       "      <td>...</td>\n",
       "      <td>...</td>\n",
       "      <td>...</td>\n",
       "    </tr>\n",
       "    <tr>\n",
       "      <th>195</th>\n",
       "      <td>56</td>\n",
       "      <td>F</td>\n",
       "      <td>LOW</td>\n",
       "      <td>HIGH</td>\n",
       "      <td>11.567</td>\n",
       "      <td>drugC</td>\n",
       "    </tr>\n",
       "    <tr>\n",
       "      <th>196</th>\n",
       "      <td>16</td>\n",
       "      <td>M</td>\n",
       "      <td>LOW</td>\n",
       "      <td>HIGH</td>\n",
       "      <td>12.006</td>\n",
       "      <td>drugC</td>\n",
       "    </tr>\n",
       "    <tr>\n",
       "      <th>197</th>\n",
       "      <td>52</td>\n",
       "      <td>M</td>\n",
       "      <td>NORMAL</td>\n",
       "      <td>HIGH</td>\n",
       "      <td>9.894</td>\n",
       "      <td>drugX</td>\n",
       "    </tr>\n",
       "    <tr>\n",
       "      <th>198</th>\n",
       "      <td>23</td>\n",
       "      <td>M</td>\n",
       "      <td>NORMAL</td>\n",
       "      <td>NORMAL</td>\n",
       "      <td>14.020</td>\n",
       "      <td>drugX</td>\n",
       "    </tr>\n",
       "    <tr>\n",
       "      <th>199</th>\n",
       "      <td>40</td>\n",
       "      <td>F</td>\n",
       "      <td>LOW</td>\n",
       "      <td>NORMAL</td>\n",
       "      <td>11.349</td>\n",
       "      <td>drugX</td>\n",
       "    </tr>\n",
       "  </tbody>\n",
       "</table>\n",
       "<p>200 rows × 6 columns</p>\n",
       "</div>"
      ],
      "text/plain": [
       "     Age Sex      BP Cholesterol  Na_to_K   Drug\n",
       "0     23   F    HIGH        HIGH   25.355  DrugY\n",
       "1     47   M     LOW        HIGH   13.093  drugC\n",
       "2     47   M     LOW        HIGH   10.114  drugC\n",
       "3     28   F  NORMAL        HIGH    7.798  drugX\n",
       "4     61   F     LOW        HIGH   18.043  DrugY\n",
       "..   ...  ..     ...         ...      ...    ...\n",
       "195   56   F     LOW        HIGH   11.567  drugC\n",
       "196   16   M     LOW        HIGH   12.006  drugC\n",
       "197   52   M  NORMAL        HIGH    9.894  drugX\n",
       "198   23   M  NORMAL      NORMAL   14.020  drugX\n",
       "199   40   F     LOW      NORMAL   11.349  drugX\n",
       "\n",
       "[200 rows x 6 columns]"
      ]
     },
     "execution_count": 2,
     "metadata": {},
     "output_type": "execute_result"
    }
   ],
   "source": [
    "data = pd.read_csv('../input/drug-classification/drug200.csv')\n",
    "data"
   ]
  },
  {
   "cell_type": "markdown",
   "execution_count": null,
   "metadata": {
    "papermill": {
     "duration": 0.009785,
     "end_time": "2020-08-15T21:06:28.907841",
     "exception": false,
     "start_time": "2020-08-15T21:06:28.898056",
     "status": "completed"
    },
    "tags": []
   },
   "source": [
    "**Data Exploration**"
   ]
  },
  {
   "cell_type": "code",
   "execution_count": 3,
   "metadata": {
    "execution": {
     "iopub.execute_input": "2020-08-15T21:06:28.940406Z",
     "iopub.status.busy": "2020-08-15T21:06:28.939553Z",
     "iopub.status.idle": "2020-08-15T21:06:28.959278Z",
     "shell.execute_reply": "2020-08-15T21:06:28.958242Z"
    },
    "papermill": {
     "duration": 0.043251,
     "end_time": "2020-08-15T21:06:28.959437",
     "exception": false,
     "start_time": "2020-08-15T21:06:28.916186",
     "status": "completed"
    },
    "tags": []
   },
   "outputs": [
    {
     "data": {
      "text/html": [
       "<div>\n",
       "<style scoped>\n",
       "    .dataframe tbody tr th:only-of-type {\n",
       "        vertical-align: middle;\n",
       "    }\n",
       "\n",
       "    .dataframe tbody tr th {\n",
       "        vertical-align: top;\n",
       "    }\n",
       "\n",
       "    .dataframe thead th {\n",
       "        text-align: right;\n",
       "    }\n",
       "</style>\n",
       "<table border=\"1\" class=\"dataframe\">\n",
       "  <thead>\n",
       "    <tr style=\"text-align: right;\">\n",
       "      <th></th>\n",
       "      <th>Age</th>\n",
       "      <th>Na_to_K</th>\n",
       "    </tr>\n",
       "  </thead>\n",
       "  <tbody>\n",
       "    <tr>\n",
       "      <th>count</th>\n",
       "      <td>200.000000</td>\n",
       "      <td>200.000000</td>\n",
       "    </tr>\n",
       "    <tr>\n",
       "      <th>mean</th>\n",
       "      <td>44.315000</td>\n",
       "      <td>16.084485</td>\n",
       "    </tr>\n",
       "    <tr>\n",
       "      <th>std</th>\n",
       "      <td>16.544315</td>\n",
       "      <td>7.223956</td>\n",
       "    </tr>\n",
       "    <tr>\n",
       "      <th>min</th>\n",
       "      <td>15.000000</td>\n",
       "      <td>6.269000</td>\n",
       "    </tr>\n",
       "    <tr>\n",
       "      <th>25%</th>\n",
       "      <td>31.000000</td>\n",
       "      <td>10.445500</td>\n",
       "    </tr>\n",
       "    <tr>\n",
       "      <th>50%</th>\n",
       "      <td>45.000000</td>\n",
       "      <td>13.936500</td>\n",
       "    </tr>\n",
       "    <tr>\n",
       "      <th>75%</th>\n",
       "      <td>58.000000</td>\n",
       "      <td>19.380000</td>\n",
       "    </tr>\n",
       "    <tr>\n",
       "      <th>max</th>\n",
       "      <td>74.000000</td>\n",
       "      <td>38.247000</td>\n",
       "    </tr>\n",
       "  </tbody>\n",
       "</table>\n",
       "</div>"
      ],
      "text/plain": [
       "              Age     Na_to_K\n",
       "count  200.000000  200.000000\n",
       "mean    44.315000   16.084485\n",
       "std     16.544315    7.223956\n",
       "min     15.000000    6.269000\n",
       "25%     31.000000   10.445500\n",
       "50%     45.000000   13.936500\n",
       "75%     58.000000   19.380000\n",
       "max     74.000000   38.247000"
      ]
     },
     "execution_count": 3,
     "metadata": {},
     "output_type": "execute_result"
    }
   ],
   "source": [
    "data.describe()"
   ]
  },
  {
   "cell_type": "code",
   "execution_count": 4,
   "metadata": {
    "execution": {
     "iopub.execute_input": "2020-08-15T21:06:28.985361Z",
     "iopub.status.busy": "2020-08-15T21:06:28.984394Z",
     "iopub.status.idle": "2020-08-15T21:06:28.989877Z",
     "shell.execute_reply": "2020-08-15T21:06:28.989246Z"
    },
    "papermill": {
     "duration": 0.021455,
     "end_time": "2020-08-15T21:06:28.990040",
     "exception": false,
     "start_time": "2020-08-15T21:06:28.968585",
     "status": "completed"
    },
    "tags": []
   },
   "outputs": [
    {
     "data": {
      "text/plain": [
       "Age              int64\n",
       "Sex             object\n",
       "BP              object\n",
       "Cholesterol     object\n",
       "Na_to_K        float64\n",
       "Drug            object\n",
       "dtype: object"
      ]
     },
     "execution_count": 4,
     "metadata": {},
     "output_type": "execute_result"
    }
   ],
   "source": [
    "data.dtypes"
   ]
  },
  {
   "cell_type": "code",
   "execution_count": 5,
   "metadata": {
    "execution": {
     "iopub.execute_input": "2020-08-15T21:06:29.019975Z",
     "iopub.status.busy": "2020-08-15T21:06:29.019119Z",
     "iopub.status.idle": "2020-08-15T21:06:29.024756Z",
     "shell.execute_reply": "2020-08-15T21:06:29.023738Z"
    },
    "papermill": {
     "duration": 0.025641,
     "end_time": "2020-08-15T21:06:29.024962",
     "exception": false,
     "start_time": "2020-08-15T21:06:28.999321",
     "status": "completed"
    },
    "tags": []
   },
   "outputs": [
    {
     "name": "stdout",
     "output_type": "stream",
     "text": [
      "M    104\n",
      "F     96\n",
      "Name: Sex, dtype: int64\n",
      "HIGH      77\n",
      "LOW       64\n",
      "NORMAL    59\n",
      "Name: BP, dtype: int64\n"
     ]
    }
   ],
   "source": [
    "data1 = data.Sex.value_counts()\n",
    "print(data1)\n",
    "data2 = data.BP.value_counts()\n",
    "print(data2)"
   ]
  },
  {
   "cell_type": "code",
   "execution_count": 6,
   "metadata": {
    "execution": {
     "iopub.execute_input": "2020-08-15T21:06:29.053619Z",
     "iopub.status.busy": "2020-08-15T21:06:29.052404Z",
     "iopub.status.idle": "2020-08-15T21:06:29.057450Z",
     "shell.execute_reply": "2020-08-15T21:06:29.058027Z"
    },
    "papermill": {
     "duration": 0.023822,
     "end_time": "2020-08-15T21:06:29.058213",
     "exception": false,
     "start_time": "2020-08-15T21:06:29.034391",
     "status": "completed"
    },
    "tags": []
   },
   "outputs": [
    {
     "name": "stdout",
     "output_type": "stream",
     "text": [
      "HIGH      103\n",
      "NORMAL     97\n",
      "Name: Cholesterol, dtype: int64\n",
      "DrugY    91\n",
      "drugX    54\n",
      "drugA    23\n",
      "drugC    16\n",
      "drugB    16\n",
      "Name: Drug, dtype: int64\n"
     ]
    }
   ],
   "source": [
    "data3 = data.Cholesterol.value_counts()\n",
    "print(data3)\n",
    "data4 = data.Drug.value_counts()\n",
    "print(data4)"
   ]
  },
  {
   "cell_type": "code",
   "execution_count": 7,
   "metadata": {
    "execution": {
     "iopub.execute_input": "2020-08-15T21:06:29.106665Z",
     "iopub.status.busy": "2020-08-15T21:06:29.105622Z",
     "iopub.status.idle": "2020-08-15T21:06:29.110643Z",
     "shell.execute_reply": "2020-08-15T21:06:29.109880Z"
    },
    "papermill": {
     "duration": 0.043181,
     "end_time": "2020-08-15T21:06:29.110771",
     "exception": false,
     "start_time": "2020-08-15T21:06:29.067590",
     "status": "completed"
    },
    "tags": []
   },
   "outputs": [
    {
     "data": {
      "text/html": [
       "<div>\n",
       "<style scoped>\n",
       "    .dataframe tbody tr th:only-of-type {\n",
       "        vertical-align: middle;\n",
       "    }\n",
       "\n",
       "    .dataframe tbody tr th {\n",
       "        vertical-align: top;\n",
       "    }\n",
       "\n",
       "    .dataframe thead th {\n",
       "        text-align: right;\n",
       "    }\n",
       "</style>\n",
       "<table border=\"1\" class=\"dataframe\">\n",
       "  <thead>\n",
       "    <tr style=\"text-align: right;\">\n",
       "      <th></th>\n",
       "      <th>Age</th>\n",
       "      <th>Sex</th>\n",
       "      <th>BP</th>\n",
       "      <th>Cholesterol</th>\n",
       "      <th>Na_to_K</th>\n",
       "      <th>Drug</th>\n",
       "    </tr>\n",
       "  </thead>\n",
       "  <tbody>\n",
       "    <tr>\n",
       "      <th>0</th>\n",
       "      <td>23</td>\n",
       "      <td>F</td>\n",
       "      <td>HIGH</td>\n",
       "      <td>HIGH</td>\n",
       "      <td>25.355</td>\n",
       "      <td>DrugY</td>\n",
       "    </tr>\n",
       "    <tr>\n",
       "      <th>1</th>\n",
       "      <td>47</td>\n",
       "      <td>M</td>\n",
       "      <td>LOW</td>\n",
       "      <td>HIGH</td>\n",
       "      <td>13.093</td>\n",
       "      <td>DrugC</td>\n",
       "    </tr>\n",
       "    <tr>\n",
       "      <th>2</th>\n",
       "      <td>47</td>\n",
       "      <td>M</td>\n",
       "      <td>LOW</td>\n",
       "      <td>HIGH</td>\n",
       "      <td>10.114</td>\n",
       "      <td>DrugC</td>\n",
       "    </tr>\n",
       "    <tr>\n",
       "      <th>3</th>\n",
       "      <td>28</td>\n",
       "      <td>F</td>\n",
       "      <td>NORMAL</td>\n",
       "      <td>HIGH</td>\n",
       "      <td>7.798</td>\n",
       "      <td>DrugX</td>\n",
       "    </tr>\n",
       "    <tr>\n",
       "      <th>4</th>\n",
       "      <td>61</td>\n",
       "      <td>F</td>\n",
       "      <td>LOW</td>\n",
       "      <td>HIGH</td>\n",
       "      <td>18.043</td>\n",
       "      <td>DrugY</td>\n",
       "    </tr>\n",
       "    <tr>\n",
       "      <th>...</th>\n",
       "      <td>...</td>\n",
       "      <td>...</td>\n",
       "      <td>...</td>\n",
       "      <td>...</td>\n",
       "      <td>...</td>\n",
       "      <td>...</td>\n",
       "    </tr>\n",
       "    <tr>\n",
       "      <th>195</th>\n",
       "      <td>56</td>\n",
       "      <td>F</td>\n",
       "      <td>LOW</td>\n",
       "      <td>HIGH</td>\n",
       "      <td>11.567</td>\n",
       "      <td>DrugC</td>\n",
       "    </tr>\n",
       "    <tr>\n",
       "      <th>196</th>\n",
       "      <td>16</td>\n",
       "      <td>M</td>\n",
       "      <td>LOW</td>\n",
       "      <td>HIGH</td>\n",
       "      <td>12.006</td>\n",
       "      <td>DrugC</td>\n",
       "    </tr>\n",
       "    <tr>\n",
       "      <th>197</th>\n",
       "      <td>52</td>\n",
       "      <td>M</td>\n",
       "      <td>NORMAL</td>\n",
       "      <td>HIGH</td>\n",
       "      <td>9.894</td>\n",
       "      <td>DrugX</td>\n",
       "    </tr>\n",
       "    <tr>\n",
       "      <th>198</th>\n",
       "      <td>23</td>\n",
       "      <td>M</td>\n",
       "      <td>NORMAL</td>\n",
       "      <td>NORMAL</td>\n",
       "      <td>14.020</td>\n",
       "      <td>DrugX</td>\n",
       "    </tr>\n",
       "    <tr>\n",
       "      <th>199</th>\n",
       "      <td>40</td>\n",
       "      <td>F</td>\n",
       "      <td>LOW</td>\n",
       "      <td>NORMAL</td>\n",
       "      <td>11.349</td>\n",
       "      <td>DrugX</td>\n",
       "    </tr>\n",
       "  </tbody>\n",
       "</table>\n",
       "<p>200 rows × 6 columns</p>\n",
       "</div>"
      ],
      "text/plain": [
       "     Age Sex      BP Cholesterol  Na_to_K   Drug\n",
       "0     23   F    HIGH        HIGH   25.355  DrugY\n",
       "1     47   M     LOW        HIGH   13.093  DrugC\n",
       "2     47   M     LOW        HIGH   10.114  DrugC\n",
       "3     28   F  NORMAL        HIGH    7.798  DrugX\n",
       "4     61   F     LOW        HIGH   18.043  DrugY\n",
       "..   ...  ..     ...         ...      ...    ...\n",
       "195   56   F     LOW        HIGH   11.567  DrugC\n",
       "196   16   M     LOW        HIGH   12.006  DrugC\n",
       "197   52   M  NORMAL        HIGH    9.894  DrugX\n",
       "198   23   M  NORMAL      NORMAL   14.020  DrugX\n",
       "199   40   F     LOW      NORMAL   11.349  DrugX\n",
       "\n",
       "[200 rows x 6 columns]"
      ]
     },
     "execution_count": 7,
     "metadata": {},
     "output_type": "execute_result"
    }
   ],
   "source": [
    "data.replace(\"drugX\", \"DrugX\", inplace = True)\n",
    "data.replace(\"drugA\", \"DrugA\", inplace = True)\n",
    "data.replace(\"drugC\", \"DrugC\", inplace = True)\n",
    "data.replace(\"drugB\", \"DrugB\", inplace = True)\n",
    "data"
   ]
  },
  {
   "cell_type": "markdown",
   "execution_count": null,
   "metadata": {
    "papermill": {
     "duration": 0.009059,
     "end_time": "2020-08-15T21:06:29.129432",
     "exception": false,
     "start_time": "2020-08-15T21:06:29.120373",
     "status": "completed"
    },
    "tags": []
   },
   "source": [
    "This part aims to determine the missing value in this data"
   ]
  },
  {
   "cell_type": "code",
   "execution_count": 8,
   "metadata": {
    "execution": {
     "iopub.execute_input": "2020-08-15T21:06:29.159121Z",
     "iopub.status.busy": "2020-08-15T21:06:29.157845Z",
     "iopub.status.idle": "2020-08-15T21:06:29.163399Z",
     "shell.execute_reply": "2020-08-15T21:06:29.162588Z"
    },
    "papermill": {
     "duration": 0.024557,
     "end_time": "2020-08-15T21:06:29.163541",
     "exception": false,
     "start_time": "2020-08-15T21:06:29.138984",
     "status": "completed"
    },
    "tags": []
   },
   "outputs": [
    {
     "data": {
      "text/plain": [
       "Age            0\n",
       "Sex            0\n",
       "BP             0\n",
       "Cholesterol    0\n",
       "Na_to_K        0\n",
       "Drug           0\n",
       "dtype: int64"
      ]
     },
     "execution_count": 8,
     "metadata": {},
     "output_type": "execute_result"
    }
   ],
   "source": [
    "data.isnull().sum()"
   ]
  },
  {
   "cell_type": "markdown",
   "execution_count": null,
   "metadata": {
    "papermill": {
     "duration": 0.009731,
     "end_time": "2020-08-15T21:06:29.183855",
     "exception": false,
     "start_time": "2020-08-15T21:06:29.174124",
     "status": "completed"
    },
    "tags": []
   },
   "source": [
    "**Visualization**"
   ]
  },
  {
   "cell_type": "code",
   "execution_count": 9,
   "metadata": {
    "execution": {
     "iopub.execute_input": "2020-08-15T21:06:29.214202Z",
     "iopub.status.busy": "2020-08-15T21:06:29.213393Z",
     "iopub.status.idle": "2020-08-15T21:06:29.436105Z",
     "shell.execute_reply": "2020-08-15T21:06:29.434904Z"
    },
    "papermill": {
     "duration": 0.242692,
     "end_time": "2020-08-15T21:06:29.436310",
     "exception": false,
     "start_time": "2020-08-15T21:06:29.193618",
     "status": "completed"
    },
    "tags": []
   },
   "outputs": [
    {
     "data": {
      "text/plain": [
       "Text(0, 0.5, 'Total Type of Sex')"
      ]
     },
     "execution_count": 9,
     "metadata": {},
     "output_type": "execute_result"
    },
    {
     "data": {
      "image/png": "[encoded data removed]",
      "text/plain": [
       "<Figure size 432x288 with 1 Axes>"
      ]
     },
     "metadata": {
      "needs_background": "light"
     },
     "output_type": "display_data"
    }
   ],
   "source": [
    "ax = sns.barplot(data1.index, data1.values, alpha = 0.8)\n",
    "ax.set_xticklabels(ax.get_xticklabels(), ha ='right')\n",
    "plt.title('Type of Sex')\n",
    "plt.xlabel('Sex')\n",
    "plt.ylabel('Total Type of Sex')"
   ]
  },
  {
   "cell_type": "code",
   "execution_count": 10,
   "metadata": {
    "execution": {
     "iopub.execute_input": "2020-08-15T21:06:29.474749Z",
     "iopub.status.busy": "2020-08-15T21:06:29.473539Z",
     "iopub.status.idle": "2020-08-15T21:06:29.625303Z",
     "shell.execute_reply": "2020-08-15T21:06:29.624489Z"
    },
    "papermill": {
     "duration": 0.178235,
     "end_time": "2020-08-15T21:06:29.625440",
     "exception": false,
     "start_time": "2020-08-15T21:06:29.447205",
     "status": "completed"
    },
    "tags": []
   },
   "outputs": [
    {
     "data": {
      "text/plain": [
       "Text(0, 0.5, 'Total of Blood Preassure')"
      ]
     },
     "execution_count": 10,
     "metadata": {},
     "output_type": "execute_result"
    },
    {
     "data": {
      "image/png": "[encoded data removed]",
      "text/plain": [
       "<Figure size 432x288 with 1 Axes>"
      ]
     },
     "metadata": {
      "needs_background": "light"
     },
     "output_type": "display_data"
    }
   ],
   "source": [
    "ax = sns.barplot(data2.index, data2.values, alpha = 0.8)\n",
    "ax.set_xticklabels(ax.get_xticklabels(), ha ='right')\n",
    "plt.title('Blood Preassure')\n",
    "plt.xlabel('Blood Preassure')\n",
    "plt.ylabel('Total of Blood Preassure')"
   ]
  },
  {
   "cell_type": "code",
   "execution_count": 11,
   "metadata": {
    "execution": {
     "iopub.execute_input": "2020-08-15T21:06:29.666597Z",
     "iopub.status.busy": "2020-08-15T21:06:29.665388Z",
     "iopub.status.idle": "2020-08-15T21:06:29.791032Z",
     "shell.execute_reply": "2020-08-15T21:06:29.790278Z"
    },
    "papermill": {
     "duration": 0.154905,
     "end_time": "2020-08-15T21:06:29.791179",
     "exception": false,
     "start_time": "2020-08-15T21:06:29.636274",
     "status": "completed"
    },
    "tags": []
   },
   "outputs": [
    {
     "data": {
      "text/plain": [
       "Text(0, 0.5, 'Total of Cholesterol')"
      ]
     },
     "execution_count": 11,
     "metadata": {},
     "output_type": "execute_result"
    },
    {
     "data": {
      "image/png": "[encoded data removed]",
      "text/plain": [
       "<Figure size 432x288 with 1 Axes>"
      ]
     },
     "metadata": {
      "needs_background": "light"
     },
     "output_type": "display_data"
    }
   ],
   "source": [
    "ax = sns.barplot(data3.index, data3.values, alpha = 0.8)\n",
    "ax.set_xticklabels(ax.get_xticklabels(), ha ='right')\n",
    "plt.title('Type of Cholesterol')\n",
    "plt.xlabel('Cholesterol')\n",
    "plt.ylabel('Total of Cholesterol')"
   ]
  },
  {
   "cell_type": "code",
   "execution_count": 12,
   "metadata": {
    "execution": {
     "iopub.execute_input": "2020-08-15T21:06:29.831855Z",
     "iopub.status.busy": "2020-08-15T21:06:29.831022Z",
     "iopub.status.idle": "2020-08-15T21:06:29.979475Z",
     "shell.execute_reply": "2020-08-15T21:06:29.978781Z"
    },
    "papermill": {
     "duration": 0.177219,
     "end_time": "2020-08-15T21:06:29.979608",
     "exception": false,
     "start_time": "2020-08-15T21:06:29.802389",
     "status": "completed"
    },
    "tags": []
   },
   "outputs": [
    {
     "data": {
      "text/plain": [
       "Text(0, 0.5, 'Total of Drug')"
      ]
     },
     "execution_count": 12,
     "metadata": {},
     "output_type": "execute_result"
    },
    {
     "data": {
      "image/png": "[encoded data removed]",
      "text/plain": [
       "<Figure size 432x288 with 1 Axes>"
      ]
     },
     "metadata": {
      "needs_background": "light"
     },
     "output_type": "display_data"
    }
   ],
   "source": [
    "ax = sns.barplot(data4.index, data4.values, alpha = 0.8)\n",
    "ax.set_xticklabels(ax.get_xticklabels(), ha ='right')\n",
    "plt.title('Type of Drug')\n",
    "plt.xlabel('Drug')\n",
    "plt.ylabel('Total of Drug')"
   ]
  },
  {
   "cell_type": "code",
   "execution_count": 13,
   "metadata": {
    "execution": {
     "iopub.execute_input": "2020-08-15T21:06:30.026532Z",
     "iopub.status.busy": "2020-08-15T21:06:30.025367Z",
     "iopub.status.idle": "2020-08-15T21:06:30.174883Z",
     "shell.execute_reply": "2020-08-15T21:06:30.174052Z"
    },
    "papermill": {
     "duration": 0.183741,
     "end_time": "2020-08-15T21:06:30.175042",
     "exception": false,
     "start_time": "2020-08-15T21:06:29.991301",
     "status": "completed"
    },
    "tags": []
   },
   "outputs": [
    {
     "data": {
      "text/plain": [
       "Text(0.5, 1.0, 'Box Plot for each Variable')"
      ]
     },
     "execution_count": 13,
     "metadata": {},
     "output_type": "execute_result"
    },
    {
     "data": {
      "image/png": "[encoded data removed]",
      "text/plain": [
       "<Figure size 432x288 with 1 Axes>"
      ]
     },
     "metadata": {
      "needs_background": "light"
     },
     "output_type": "display_data"
    }
   ],
   "source": [
    "ax = sns.boxplot(data=data, orient=\"h\", palette=\"Set2\")\n",
    "plt.title('Box Plot for each Variable')"
   ]
  },
  {
   "cell_type": "code",
   "execution_count": 14,
   "metadata": {
    "execution": {
     "iopub.execute_input": "2020-08-15T21:06:30.213667Z",
     "iopub.status.busy": "2020-08-15T21:06:30.212810Z",
     "iopub.status.idle": "2020-08-15T21:06:30.650967Z",
     "shell.execute_reply": "2020-08-15T21:06:30.650316Z"
    },
    "papermill": {
     "duration": 0.464427,
     "end_time": "2020-08-15T21:06:30.651113",
     "exception": false,
     "start_time": "2020-08-15T21:06:30.186686",
     "status": "completed"
    },
    "tags": []
   },
   "outputs": [
    {
     "data": {
      "image/png": "[encoded data removed]",
      "text/plain": [
       "<Figure size 432x288 with 1 Axes>"
      ]
     },
     "metadata": {
      "needs_background": "light"
     },
     "output_type": "display_data"
    },
    {
     "data": {
      "image/png": "[encoded data removed]",
      "text/plain": [
       "<Figure size 432x288 with 1 Axes>"
      ]
     },
     "metadata": {
      "needs_background": "light"
     },
     "output_type": "display_data"
    }
   ],
   "source": [
    "n = 0 \n",
    "for x in [\"Age\", \"Na_to_K\"]:\n",
    "    n = 1\n",
    "    plt.subplot(2 , 2 , n)\n",
    "    plt.subplots_adjust(hspace =0.5, wspace = 0.5)\n",
    "    sns.distplot(data[x] , kde=True, bins = 20)\n",
    "    plt.title(x)\n",
    "    plt.show()"
   ]
  },
  {
   "cell_type": "code",
   "execution_count": 15,
   "metadata": {
    "execution": {
     "iopub.execute_input": "2020-08-15T21:06:30.691515Z",
     "iopub.status.busy": "2020-08-15T21:06:30.690168Z",
     "iopub.status.idle": "2020-08-15T21:06:32.426603Z",
     "shell.execute_reply": "2020-08-15T21:06:32.427190Z"
    },
    "papermill": {
     "duration": 1.763852,
     "end_time": "2020-08-15T21:06:32.427359",
     "exception": false,
     "start_time": "2020-08-15T21:06:30.663507",
     "status": "completed"
    },
    "tags": []
   },
   "outputs": [
    {
     "data": {
      "image/png": "[encoded data removed]",
      "text/plain": [
       "<Figure size 434.225x360 with 6 Axes>"
      ]
     },
     "metadata": {},
     "output_type": "display_data"
    }
   ],
   "source": [
    "ax = sns.set(style=\"ticks\", color_codes='pallete')\n",
    "ax = sns.pairplot(data, hue=\"Drug\")"
   ]
  },
  {
   "cell_type": "markdown",
   "execution_count": null,
   "metadata": {
    "papermill": {
     "duration": 0.012728,
     "end_time": "2020-08-15T21:06:32.453315",
     "exception": false,
     "start_time": "2020-08-15T21:06:32.440587",
     "status": "completed"
    },
    "tags": []
   },
   "source": [
    "Inisialization"
   ]
  },
  {
   "cell_type": "code",
   "execution_count": 16,
   "metadata": {
    "execution": {
     "iopub.execute_input": "2020-08-15T21:06:32.487534Z",
     "iopub.status.busy": "2020-08-15T21:06:32.486473Z",
     "iopub.status.idle": "2020-08-15T21:06:32.490012Z",
     "shell.execute_reply": "2020-08-15T21:06:32.489289Z"
    },
    "papermill": {
     "duration": 0.024057,
     "end_time": "2020-08-15T21:06:32.490149",
     "exception": false,
     "start_time": "2020-08-15T21:06:32.466092",
     "status": "completed"
    },
    "tags": []
   },
   "outputs": [],
   "source": [
    "Name= ['Age', 'Sex', 'BP', 'Cholesterol', 'Na_to_K']\n",
    "\n",
    "X = data[Name]\n",
    "Y = data['Drug']"
   ]
  },
  {
   "cell_type": "markdown",
   "execution_count": null,
   "metadata": {
    "papermill": {
     "duration": 0.01255,
     "end_time": "2020-08-15T21:06:32.515953",
     "exception": false,
     "start_time": "2020-08-15T21:06:32.503403",
     "status": "completed"
    },
    "tags": []
   },
   "source": [
    "Splitting data into training and testing"
   ]
  },
  {
   "cell_type": "code",
   "execution_count": 17,
   "metadata": {
    "execution": {
     "iopub.execute_input": "2020-08-15T21:06:32.548640Z",
     "iopub.status.busy": "2020-08-15T21:06:32.547827Z",
     "iopub.status.idle": "2020-08-15T21:06:32.697139Z",
     "shell.execute_reply": "2020-08-15T21:06:32.696341Z"
    },
    "papermill": {
     "duration": 0.168479,
     "end_time": "2020-08-15T21:06:32.697276",
     "exception": false,
     "start_time": "2020-08-15T21:06:32.528797",
     "status": "completed"
    },
    "tags": []
   },
   "outputs": [],
   "source": [
    "from sklearn.model_selection import train_test_split\n",
    "X_train, X_test, Y_train, Y_test = train_test_split(X, Y, random_state=0)"
   ]
  },
  {
   "cell_type": "code",
   "execution_count": 18,
   "metadata": {
    "execution": {
     "iopub.execute_input": "2020-08-15T21:06:32.736587Z",
     "iopub.status.busy": "2020-08-15T21:06:32.734564Z",
     "iopub.status.idle": "2020-08-15T21:06:32.750155Z",
     "shell.execute_reply": "2020-08-15T21:06:32.749448Z"
    },
    "papermill": {
     "duration": 0.039671,
     "end_time": "2020-08-15T21:06:32.750299",
     "exception": false,
     "start_time": "2020-08-15T21:06:32.710628",
     "status": "completed"
    },
    "tags": []
   },
   "outputs": [],
   "source": [
    "X_train = pd.get_dummies(X_train,columns=Name,drop_first=True)\n",
    "X_test = pd.get_dummies(X_test,columns=Name,drop_first=True)"
   ]
  },
  {
   "cell_type": "markdown",
   "execution_count": null,
   "metadata": {
    "papermill": {
     "duration": 0.012627,
     "end_time": "2020-08-15T21:06:32.776696",
     "exception": false,
     "start_time": "2020-08-15T21:06:32.764069",
     "status": "completed"
    },
    "tags": []
   },
   "source": [
    "**Support Vector Machine (SVM)**"
   ]
  },
  {
   "cell_type": "code",
   "execution_count": 19,
   "metadata": {
    "execution": {
     "iopub.execute_input": "2020-08-15T21:06:32.809903Z",
     "iopub.status.busy": "2020-08-15T21:06:32.809120Z",
     "iopub.status.idle": "2020-08-15T21:06:32.956710Z",
     "shell.execute_reply": "2020-08-15T21:06:32.955814Z"
    },
    "papermill": {
     "duration": 0.167057,
     "end_time": "2020-08-15T21:06:32.956884",
     "exception": false,
     "start_time": "2020-08-15T21:06:32.789827",
     "status": "completed"
    },
    "tags": []
   },
   "outputs": [
    {
     "name": "stdout",
     "output_type": "stream",
     "text": [
      "Accuracy of SVM classifier on this training is 0.88\n"
     ]
    }
   ],
   "source": [
    "from sklearn.svm import SVC\n",
    "\n",
    "svm = SVC()\n",
    "svm.fit(X_train, Y_train)\n",
    "print('Accuracy of SVM classifier on this training is {:.2f}'\n",
    "     .format(svm.score(X_train, Y_train)))"
   ]
  },
  {
   "cell_type": "markdown",
   "execution_count": null,
   "metadata": {
    "papermill": {
     "duration": 0.013022,
     "end_time": "2020-08-15T21:06:32.983532",
     "exception": false,
     "start_time": "2020-08-15T21:06:32.970510",
     "status": "completed"
    },
    "tags": []
   },
   "source": [
    "This is my second [[](http://)](http://)"
   ]
  }
 ],
 "metadata": {
  "kernelspec": {
   "display_name": "Python 3",
   "language": "python",
   "name": "python3"
  },
  "language_info": {
   "codemirror_mode": {
    "name": "ipython",
    "version": 3
   },
   "file_extension": ".py",
   "mimetype": "text/x-python",
   "name": "python",
   "nbconvert_exporter": "python",
   "pygments_lexer": "ipython3",
   "version": "3.7.6"
  },
  "papermill": {
   "duration": 10.63738,
   "end_time": "2020-08-15T21:06:33.106117",
   "environment_variables": {},
   "exception": null,
   "input_path": "__notebook__.ipynb",
   "output_path": "__notebook__.ipynb",
   "parameters": {},
   "start_time": "2020-08-15T21:06:22.468737",
   "version": "2.1.0"
  }
 },
 "nbformat": 4,
 "nbformat_minor": 4
}
